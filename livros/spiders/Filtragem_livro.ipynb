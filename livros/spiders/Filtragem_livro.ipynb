{
 "cells": [
  {
   "cell_type": "code",
   "execution_count": null,
   "metadata": {},
   "outputs": [],
   "source": [
    "import pandas as pd\n",
    "import numpy as np\n",
    "import math as math\n",
    "from scipy import stats\n",
    "import matplotlib.pyplot as plt\n"
   ]
  },
  {
   "cell_type": "code",
   "execution_count": null,
   "metadata": {},
   "outputs": [],
   "source": [
    "tabela = pd.read_csv('Livros.csv')\n",
    "tabela.head()"
   ]
  },
  {
   "cell_type": "code",
   "execution_count": null,
   "metadata": {},
   "outputs": [],
   "source": [
    "##### preço\n",
    "\n",
    "\n",
    "preco = input(\"Digite '0' para ver os livros do maior ao menor preço\\nDigite '1' para escolher um preço máximo\\n\\nSua escolha: \")  \n",
    "if preco=='0':\n",
    "    tabela = tabela.sort_values('Preço', ascending= False)\n",
    "elif preco=='1':\n",
    "    preco1 = input('Digite o preço máximo do livro: ')\n",
    "    preco1 = float(preco1)\n",
    "    tabela_preco = tabela[tabela.Preço<=preco1]\n",
    "tabela_preco \n"
   ]
  },
  {
   "cell_type": "code",
   "execution_count": null,
   "metadata": {},
   "outputs": [],
   "source": [
    "##editora\n",
    "\n",
    "\n",
    "editora = input('Digite a editora para ver seus livros: ')\n",
    "tabela_editora = tabela[tabela.Editora==editora]\n",
    "tabela_editora "
   ]
  },
  {
   "cell_type": "code",
   "execution_count": null,
   "metadata": {},
   "outputs": [],
   "source": [
    "### autor\n",
    "\n",
    "autor = input('Digite o autor para ver seus livros: \\n\\nExemplo: Sobrenone, Nome\\n\\nDigite aqui')\n",
    "tabela_autor = tabela[tabela.Autor==autor]\n",
    "tabela_autor"
   ]
  },
  {
   "cell_type": "code",
   "execution_count": null,
   "metadata": {},
   "outputs": [],
   "source": []
  }
 ],
 "metadata": {
  "kernelspec": {
   "display_name": "Python 3",
   "language": "python",
   "name": "python3"
  },
  "language_info": {
   "codemirror_mode": {
    "name": "ipython",
    "version": 3
   },
   "file_extension": ".py",
   "mimetype": "text/x-python",
   "name": "python",
   "nbconvert_exporter": "python",
   "pygments_lexer": "ipython3",
   "version": "3.6.5"
  }
 },
 "nbformat": 4,
 "nbformat_minor": 2
}
